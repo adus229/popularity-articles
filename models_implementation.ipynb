{
 "cells": [
  {
   "cell_type": "code",
   "execution_count": 3,
   "metadata": {},
   "outputs": [],
   "source": [
    "#Library used in the work\n",
    "import pandas as pd\n",
    "import numpy as np\n",
    "import matplotlib.pyplot as plt \n",
    "from sklearn import linear_model\n",
    "from sklearn.decomposition import PCA"
   ]
  },
  {
   "cell_type": "code",
   "execution_count": 4,
   "metadata": {},
   "outputs": [
    {
     "data": {
      "text/html": [
       "<div>\n",
       "<style scoped>\n",
       "    .dataframe tbody tr th:only-of-type {\n",
       "        vertical-align: middle;\n",
       "    }\n",
       "\n",
       "    .dataframe tbody tr th {\n",
       "        vertical-align: top;\n",
       "    }\n",
       "\n",
       "    .dataframe thead th {\n",
       "        text-align: right;\n",
       "    }\n",
       "</style>\n",
       "<table border=\"1\" class=\"dataframe\">\n",
       "  <thead>\n",
       "    <tr style=\"text-align: right;\">\n",
       "      <th></th>\n",
       "      <th>url</th>\n",
       "      <th>timedelta</th>\n",
       "      <th>n_tokens_title</th>\n",
       "      <th>n_tokens_content</th>\n",
       "      <th>n_unique_tokens</th>\n",
       "      <th>n_non_stop_words</th>\n",
       "      <th>n_non_stop_unique_tokens</th>\n",
       "      <th>num_hrefs</th>\n",
       "      <th>num_self_hrefs</th>\n",
       "      <th>num_imgs</th>\n",
       "      <th>...</th>\n",
       "      <th>min_positive_polarity</th>\n",
       "      <th>max_positive_polarity</th>\n",
       "      <th>avg_negative_polarity</th>\n",
       "      <th>min_negative_polarity</th>\n",
       "      <th>max_negative_polarity</th>\n",
       "      <th>title_subjectivity</th>\n",
       "      <th>title_sentiment_polarity</th>\n",
       "      <th>abs_title_subjectivity</th>\n",
       "      <th>abs_title_sentiment_polarity</th>\n",
       "      <th>shares</th>\n",
       "    </tr>\n",
       "  </thead>\n",
       "  <tbody>\n",
       "    <tr>\n",
       "      <th>0</th>\n",
       "      <td>'http://mashable.com/2013/01/07/amazon-instant...</td>\n",
       "      <td>731</td>\n",
       "      <td>12</td>\n",
       "      <td>219</td>\n",
       "      <td>0.663594</td>\n",
       "      <td>1.0</td>\n",
       "      <td>0.815385</td>\n",
       "      <td>4</td>\n",
       "      <td>2</td>\n",
       "      <td>1</td>\n",
       "      <td>...</td>\n",
       "      <td>0.100000</td>\n",
       "      <td>0.7</td>\n",
       "      <td>-0.350000</td>\n",
       "      <td>-0.600</td>\n",
       "      <td>-0.200000</td>\n",
       "      <td>0.500000</td>\n",
       "      <td>-0.187500</td>\n",
       "      <td>0.000000</td>\n",
       "      <td>0.187500</td>\n",
       "      <td>593</td>\n",
       "    </tr>\n",
       "    <tr>\n",
       "      <th>1</th>\n",
       "      <td>'http://mashable.com/2013/01/07/ap-samsung-spo...</td>\n",
       "      <td>731</td>\n",
       "      <td>9</td>\n",
       "      <td>255</td>\n",
       "      <td>0.604743</td>\n",
       "      <td>1.0</td>\n",
       "      <td>0.791946</td>\n",
       "      <td>3</td>\n",
       "      <td>1</td>\n",
       "      <td>1</td>\n",
       "      <td>...</td>\n",
       "      <td>0.033333</td>\n",
       "      <td>0.7</td>\n",
       "      <td>-0.118750</td>\n",
       "      <td>-0.125</td>\n",
       "      <td>-0.100000</td>\n",
       "      <td>0.000000</td>\n",
       "      <td>0.000000</td>\n",
       "      <td>0.500000</td>\n",
       "      <td>0.000000</td>\n",
       "      <td>711</td>\n",
       "    </tr>\n",
       "    <tr>\n",
       "      <th>2</th>\n",
       "      <td>'http://mashable.com/2013/01/07/apple-40-billi...</td>\n",
       "      <td>731</td>\n",
       "      <td>9</td>\n",
       "      <td>211</td>\n",
       "      <td>0.575130</td>\n",
       "      <td>1.0</td>\n",
       "      <td>0.663866</td>\n",
       "      <td>3</td>\n",
       "      <td>1</td>\n",
       "      <td>1</td>\n",
       "      <td>...</td>\n",
       "      <td>0.100000</td>\n",
       "      <td>1.0</td>\n",
       "      <td>-0.466667</td>\n",
       "      <td>-0.800</td>\n",
       "      <td>-0.133333</td>\n",
       "      <td>0.000000</td>\n",
       "      <td>0.000000</td>\n",
       "      <td>0.500000</td>\n",
       "      <td>0.000000</td>\n",
       "      <td>1500</td>\n",
       "    </tr>\n",
       "    <tr>\n",
       "      <th>3</th>\n",
       "      <td>'http://mashable.com/2013/01/07/astronaut-notr...</td>\n",
       "      <td>731</td>\n",
       "      <td>9</td>\n",
       "      <td>531</td>\n",
       "      <td>0.503788</td>\n",
       "      <td>1.0</td>\n",
       "      <td>0.665635</td>\n",
       "      <td>9</td>\n",
       "      <td>0</td>\n",
       "      <td>1</td>\n",
       "      <td>...</td>\n",
       "      <td>0.136364</td>\n",
       "      <td>0.8</td>\n",
       "      <td>-0.369697</td>\n",
       "      <td>-0.600</td>\n",
       "      <td>-0.166667</td>\n",
       "      <td>0.000000</td>\n",
       "      <td>0.000000</td>\n",
       "      <td>0.500000</td>\n",
       "      <td>0.000000</td>\n",
       "      <td>1200</td>\n",
       "    </tr>\n",
       "    <tr>\n",
       "      <th>4</th>\n",
       "      <td>'http://mashable.com/2013/01/07/att-u-verse-ap...</td>\n",
       "      <td>731</td>\n",
       "      <td>13</td>\n",
       "      <td>1072</td>\n",
       "      <td>0.415646</td>\n",
       "      <td>1.0</td>\n",
       "      <td>0.540890</td>\n",
       "      <td>19</td>\n",
       "      <td>19</td>\n",
       "      <td>20</td>\n",
       "      <td>...</td>\n",
       "      <td>0.033333</td>\n",
       "      <td>1.0</td>\n",
       "      <td>-0.220192</td>\n",
       "      <td>-0.500</td>\n",
       "      <td>-0.050000</td>\n",
       "      <td>0.454545</td>\n",
       "      <td>0.136364</td>\n",
       "      <td>0.045455</td>\n",
       "      <td>0.136364</td>\n",
       "      <td>505</td>\n",
       "    </tr>\n",
       "  </tbody>\n",
       "</table>\n",
       "<p>5 rows × 61 columns</p>\n",
       "</div>"
      ],
      "text/plain": [
       "                                                 url  timedelta  \\\n",
       "0  'http://mashable.com/2013/01/07/amazon-instant...        731   \n",
       "1  'http://mashable.com/2013/01/07/ap-samsung-spo...        731   \n",
       "2  'http://mashable.com/2013/01/07/apple-40-billi...        731   \n",
       "3  'http://mashable.com/2013/01/07/astronaut-notr...        731   \n",
       "4  'http://mashable.com/2013/01/07/att-u-verse-ap...        731   \n",
       "\n",
       "   n_tokens_title  n_tokens_content  n_unique_tokens  n_non_stop_words  \\\n",
       "0              12               219         0.663594               1.0   \n",
       "1               9               255         0.604743               1.0   \n",
       "2               9               211         0.575130               1.0   \n",
       "3               9               531         0.503788               1.0   \n",
       "4              13              1072         0.415646               1.0   \n",
       "\n",
       "   n_non_stop_unique_tokens  num_hrefs  num_self_hrefs  num_imgs  ...  \\\n",
       "0                  0.815385          4               2         1  ...   \n",
       "1                  0.791946          3               1         1  ...   \n",
       "2                  0.663866          3               1         1  ...   \n",
       "3                  0.665635          9               0         1  ...   \n",
       "4                  0.540890         19              19        20  ...   \n",
       "\n",
       "   min_positive_polarity  max_positive_polarity  avg_negative_polarity  \\\n",
       "0               0.100000                    0.7              -0.350000   \n",
       "1               0.033333                    0.7              -0.118750   \n",
       "2               0.100000                    1.0              -0.466667   \n",
       "3               0.136364                    0.8              -0.369697   \n",
       "4               0.033333                    1.0              -0.220192   \n",
       "\n",
       "   min_negative_polarity  max_negative_polarity  title_subjectivity  \\\n",
       "0                 -0.600              -0.200000            0.500000   \n",
       "1                 -0.125              -0.100000            0.000000   \n",
       "2                 -0.800              -0.133333            0.000000   \n",
       "3                 -0.600              -0.166667            0.000000   \n",
       "4                 -0.500              -0.050000            0.454545   \n",
       "\n",
       "   title_sentiment_polarity  abs_title_subjectivity  \\\n",
       "0                 -0.187500                0.000000   \n",
       "1                  0.000000                0.500000   \n",
       "2                  0.000000                0.500000   \n",
       "3                  0.000000                0.500000   \n",
       "4                  0.136364                0.045455   \n",
       "\n",
       "   abs_title_sentiment_polarity  shares  \n",
       "0                      0.187500     593  \n",
       "1                      0.000000     711  \n",
       "2                      0.000000    1500  \n",
       "3                      0.000000    1200  \n",
       "4                      0.136364     505  \n",
       "\n",
       "[5 rows x 61 columns]"
      ]
     },
     "execution_count": 4,
     "metadata": {},
     "output_type": "execute_result"
    }
   ],
   "source": [
    "articles = pd.read_csv(\"phpgBMvy4.csv\",header=0)\n",
    "articles.head()"
   ]
  },
  {
   "cell_type": "code",
   "execution_count": 5,
   "metadata": {},
   "outputs": [
    {
     "name": "stdout",
     "output_type": "stream",
     "text": [
      "14 categorials variables, 46 numericals variables and 60 variables in totals\n"
     ]
    }
   ],
   "source": [
    "#Only keep relevant variables\n",
    "categorials_names = list({\"data_channel_isarticlesfestyle\",\"data_channel_is_entertainment\",\"data_channel_is_bus\",\"data_channel_is_socmed\",\n",
    "                    \"data_channel_is_tech\",\"data_channel_is_world\",\"weekday_is_monday\",\"weekday_is_monday\",\"weekday_is_tuesday\",\n",
    "                     \"weekday_is_wednesday\",\"weekday_is_thursday\",\"weekday_is_friday\",\"weekday_is_saturday\",\"weekday_is_sunday\",\n",
    "                    \"is_weekend\"})\n",
    "\n",
    "numericals_names = list({\"timedelta\",\"n_tokens_title\",\"n_tokens_content\",\"n_unique_tokens\",\"n_non_stop_words\",\n",
    "                    \"n_non_stop_unique_tokens\",\"num_hrefs\",\"num_self_hrefs\",\"num_imgs\",\"num_videos\",\"average_token_length\",\n",
    "                   \"num_keywords\",\"kw_min_min\",\"kw_max_min\",\"kw_avg_min\",\"kw_min_max\",\"kw_max_max\",\"kw_avg_max\",\"kw_min_avg\",\n",
    "                    \"kw_max_avg\",\"kw_avg_avg\",\"self_reference_min_shares\",\"self_reference_max_shares\",\"self_reference_avg_sharess\",\n",
    "                   \"LDA_00\",\"LDA_01\",\"LDA_02\",\"LDA_03\",\"LDA_04\",\"global_subjectivity\",\"global_sentiment_polarity\",\"global_rate_positive_words\"\n",
    "                    ,\"global_rate_negative_words\",\"rate_positive_words\",\"rate_negative_words\",\"avg_positive_polarity\",\"min_positive_polarity\",\n",
    "                    \"max_positive_polarity\",\"avg_negative_polarity\",\"min_negative_polarity\",\"max_negative_polarity\",\"title_subjectivity\",\n",
    "                    \"title_sentiment_polarity\",\"abs_title_subjectivity\",\"abs_title_sentiment_polarity\",\"shares\"})\n",
    "\n",
    "print(\"{cat} categorials variables, {num} numericals variables and {tot} variables in totals\".format(cat = len(categorials_names),num=len(numericals_names)\n",
    "                                                                                                  ,tot=len(categorials_names)+len(numericals_names)\n",
    "                                                                                                 ))"
   ]
  },
  {
   "cell_type": "code",
   "execution_count": 7,
   "metadata": {},
   "outputs": [],
   "source": [
    "#Select some variables for comparison\n",
    "var_list = [\"n_tokens_title\",\"n_tokens_content\",\"n_unique_tokens\"]\n",
    "models_var_list = [\"constant\"]\n",
    "models_var_list.extend(var_list)\n",
    "X = articles.loc[:,var_list]\n",
    "Y = articles[\"shares\"]"
   ]
  },
  {
   "cell_type": "markdown",
   "metadata": {},
   "source": [
    "# Comparison for OLS"
   ]
  },
  {
   "cell_type": "markdown",
   "metadata": {},
   "source": [
    "## Our Implementation"
   ]
  },
  {
   "cell_type": "code",
   "execution_count": 8,
   "metadata": {},
   "outputs": [],
   "source": [
    "class Ols:\n",
    "    def __init__(self,fit_intercept=True):\n",
    "        \"\"\"\n",
    "        Instance of Ordinary least square regression\n",
    "        \"\"\"\n",
    "        self.coefs=[]\n",
    "        self.fit_intercept=fit_intercept\n",
    "\n",
    "    def fit(self,X,Y):\n",
    "        \"\"\"\n",
    "\n",
    "        \"\"\"\n",
    "        X=np.array(X)\n",
    "        if self.fit_intercept :\n",
    "            X = np.concatenate(\n",
    "                (\n",
    "                np.ones(X.shape[0]).reshape((X.shape[0],-1)),\n",
    "                 X\n",
    "                ),axis=1) \n",
    "        Y = np.array(Y)\n",
    "        self.coefs = np.linalg.inv(X.T@X)@X.T@Y\n",
    "        self.residuals = Y-X@self.coefs\n",
    "        self.stds = np.sqrt(np.diag(np.var(self.residuals)*(np.linalg.inv(X.T@X))))\n",
    "        self.students = self.coefs/self.stds\n",
    "        self.R2 = 1 - np.sum(self.residuals**2)/np.sum((Y-np.mean(Y))**2)\n",
    "        return self"
   ]
  },
  {
   "cell_type": "code",
   "execution_count": 9,
   "metadata": {},
   "outputs": [],
   "source": [
    "ols_own = Ols().fit(X,Y)"
   ]
  },
  {
   "cell_type": "code",
   "execution_count": 10,
   "metadata": {},
   "outputs": [
    {
     "data": {
      "text/plain": [
       "array([2.99898913e+02, 2.76263850e+01, 1.23969631e-01, 1.65859292e+01])"
      ]
     },
     "execution_count": 10,
     "metadata": {},
     "output_type": "execute_result"
    }
   ],
   "source": [
    "ols_own.stds"
   ]
  },
  {
   "cell_type": "code",
   "execution_count": 11,
   "metadata": {},
   "outputs": [
    {
     "data": {
      "text/plain": [
       "array([9.54502937, 1.74113383, 0.45873389, 0.17198693])"
      ]
     },
     "execution_count": 11,
     "metadata": {},
     "output_type": "execute_result"
    }
   ],
   "source": [
    "ols_own.students"
   ]
  },
  {
   "cell_type": "code",
   "execution_count": 12,
   "metadata": {},
   "outputs": [
    {
     "data": {
      "text/plain": [
       "8.317862280315946e-05"
      ]
     },
     "execution_count": 12,
     "metadata": {},
     "output_type": "execute_result"
    }
   ],
   "source": [
    "ols_own.R2"
   ]
  },
  {
   "cell_type": "markdown",
   "metadata": {},
   "source": [
    "## comparison"
   ]
  },
  {
   "cell_type": "code",
   "execution_count": 13,
   "metadata": {},
   "outputs": [],
   "source": [
    "sk_ols= linear_model.LinearRegression(fit_intercept=True).fit(X,Y)\n",
    "sk_ols_coefs = [sk_ols.intercept_]\n",
    "sk_ols_coefs.extend(sk_ols.coef_)"
   ]
  },
  {
   "cell_type": "code",
   "execution_count": 14,
   "metadata": {},
   "outputs": [
    {
     "data": {
      "text/html": [
       "<div>\n",
       "<style scoped>\n",
       "    .dataframe tbody tr th:only-of-type {\n",
       "        vertical-align: middle;\n",
       "    }\n",
       "\n",
       "    .dataframe tbody tr th {\n",
       "        vertical-align: top;\n",
       "    }\n",
       "\n",
       "    .dataframe thead th {\n",
       "        text-align: right;\n",
       "    }\n",
       "</style>\n",
       "<table border=\"1\" class=\"dataframe\">\n",
       "  <thead>\n",
       "    <tr style=\"text-align: right;\">\n",
       "      <th></th>\n",
       "      <th>var</th>\n",
       "      <th>coefs</th>\n",
       "      <th>skit-learn</th>\n",
       "    </tr>\n",
       "  </thead>\n",
       "  <tbody>\n",
       "    <tr>\n",
       "      <th>0</th>\n",
       "      <td>constant</td>\n",
       "      <td>2862.544</td>\n",
       "      <td>2862.544</td>\n",
       "    </tr>\n",
       "    <tr>\n",
       "      <th>1</th>\n",
       "      <td>n_tokens_title</td>\n",
       "      <td>48.101</td>\n",
       "      <td>48.101</td>\n",
       "    </tr>\n",
       "    <tr>\n",
       "      <th>2</th>\n",
       "      <td>n_tokens_content</td>\n",
       "      <td>0.057</td>\n",
       "      <td>0.057</td>\n",
       "    </tr>\n",
       "    <tr>\n",
       "      <th>3</th>\n",
       "      <td>n_unique_tokens</td>\n",
       "      <td>2.853</td>\n",
       "      <td>2.853</td>\n",
       "    </tr>\n",
       "  </tbody>\n",
       "</table>\n",
       "</div>"
      ],
      "text/plain": [
       "                var     coefs  skit-learn\n",
       "0          constant  2862.544    2862.544\n",
       "1    n_tokens_title    48.101      48.101\n",
       "2  n_tokens_content     0.057       0.057\n",
       "3   n_unique_tokens     2.853       2.853"
      ]
     },
     "execution_count": 14,
     "metadata": {},
     "output_type": "execute_result"
    }
   ],
   "source": [
    "compare_ols = pd.DataFrame({\n",
    "    \"var\":models_var_list,\n",
    "    \"coefs\":np.round(ols_own.coefs,3),\n",
    "    \"skit-learn\": np.round(sk_ols_coefs,3) })\n",
    "compare_ols"
   ]
  },
  {
   "cell_type": "code",
   "execution_count": 15,
   "metadata": {},
   "outputs": [
    {
     "data": {
      "text/plain": [
       "'\\\\begin{tabular}{lrr}\\n\\\\toprule\\n              var &     coefs &  skit-learn \\\\\\\\\\n\\\\midrule\\n         constant &  2862.544 &    2862.544 \\\\\\\\\\n   n\\\\_tokens\\\\_title &    48.101 &      48.101 \\\\\\\\\\n n\\\\_tokens\\\\_content &     0.057 &       0.057 \\\\\\\\\\n  n\\\\_unique\\\\_tokens &     2.853 &       2.853 \\\\\\\\\\n\\\\bottomrule\\n\\\\end{tabular}\\n'"
      ]
     },
     "execution_count": 15,
     "metadata": {},
     "output_type": "execute_result"
    }
   ],
   "source": [
    "#Import to latex\n",
    "compare_ols.to_latex(index=False)"
   ]
  },
  {
   "cell_type": "markdown",
   "metadata": {},
   "source": [
    "# Comparison for ridge"
   ]
  },
  {
   "cell_type": "markdown",
   "metadata": {},
   "source": [
    "## Our Implementation"
   ]
  },
  {
   "cell_type": "code",
   "execution_count": 16,
   "metadata": {},
   "outputs": [],
   "source": [
    "class Ridge:\n",
    "    def __init__(self,penalization=1,fit_intercept=True):\n",
    "        self.penalization = penalization\n",
    "        self.fit_intercept=fit_intercept\n",
    "        \n",
    "    def fit(self,X,Y):\n",
    "        X=np.array(X)\n",
    "        if self.fit_intercept :\n",
    "            X = np.concatenate(\n",
    "                (\n",
    "                np.ones(X.shape[0]).reshape((X.shape[0],-1)),\n",
    "                 X\n",
    "                ),axis=1) \n",
    "        Y = np.array(Y)\n",
    "        self.coefs = np.linalg.inv(X.T@X + self.penalization*np.identity(X.shape[1]))@X.T@Y\n",
    "        return self\n"
   ]
  },
  {
   "cell_type": "code",
   "execution_count": 17,
   "metadata": {},
   "outputs": [],
   "source": [
    "own_ridge = Ridge().fit(X,Y)"
   ]
  },
  {
   "cell_type": "code",
   "execution_count": 18,
   "metadata": {},
   "outputs": [],
   "source": [
    "sk_ridge = linear_model.Ridge().fit(X,Y)\n",
    "sk_ridge_coefs = [sk_ols.intercept_]\n",
    "sk_ridge_coefs.extend(sk_ols.coef_)"
   ]
  },
  {
   "cell_type": "code",
   "execution_count": 19,
   "metadata": {},
   "outputs": [
    {
     "data": {
      "text/plain": [
       "'\\\\begin{tabular}{lrr}\\n\\\\toprule\\n              var &     coefs &  skit-learn \\\\\\\\\\n\\\\midrule\\n         constant &  2862.544 &    2862.544 \\\\\\\\\\n   n\\\\_tokens\\\\_title &    48.101 &      48.101 \\\\\\\\\\n n\\\\_tokens\\\\_content &     0.057 &       0.057 \\\\\\\\\\n  n\\\\_unique\\\\_tokens &     2.853 &       2.853 \\\\\\\\\\n\\\\bottomrule\\n\\\\end{tabular}\\n'"
      ]
     },
     "execution_count": 19,
     "metadata": {},
     "output_type": "execute_result"
    }
   ],
   "source": [
    "#Import to latex\n",
    "compare_ols.to_latex(index=False)"
   ]
  },
  {
   "cell_type": "markdown",
   "metadata": {},
   "source": [
    "# Comparison"
   ]
  },
  {
   "cell_type": "code",
   "execution_count": 20,
   "metadata": {},
   "outputs": [
    {
     "data": {
      "text/html": [
       "<div>\n",
       "<style scoped>\n",
       "    .dataframe tbody tr th:only-of-type {\n",
       "        vertical-align: middle;\n",
       "    }\n",
       "\n",
       "    .dataframe tbody tr th {\n",
       "        vertical-align: top;\n",
       "    }\n",
       "\n",
       "    .dataframe thead th {\n",
       "        text-align: right;\n",
       "    }\n",
       "</style>\n",
       "<table border=\"1\" class=\"dataframe\">\n",
       "  <thead>\n",
       "    <tr style=\"text-align: right;\">\n",
       "      <th></th>\n",
       "      <th>var</th>\n",
       "      <th>coefs</th>\n",
       "      <th>skit-learn</th>\n",
       "    </tr>\n",
       "  </thead>\n",
       "  <tbody>\n",
       "    <tr>\n",
       "      <th>0</th>\n",
       "      <td>constant</td>\n",
       "      <td>2860.643</td>\n",
       "      <td>2862.544</td>\n",
       "    </tr>\n",
       "    <tr>\n",
       "      <th>1</th>\n",
       "      <td>n_tokens_title</td>\n",
       "      <td>48.268</td>\n",
       "      <td>48.101</td>\n",
       "    </tr>\n",
       "    <tr>\n",
       "      <th>2</th>\n",
       "      <td>n_tokens_content</td>\n",
       "      <td>0.057</td>\n",
       "      <td>0.057</td>\n",
       "    </tr>\n",
       "    <tr>\n",
       "      <th>3</th>\n",
       "      <td>n_unique_tokens</td>\n",
       "      <td>2.856</td>\n",
       "      <td>2.853</td>\n",
       "    </tr>\n",
       "  </tbody>\n",
       "</table>\n",
       "</div>"
      ],
      "text/plain": [
       "                var     coefs  skit-learn\n",
       "0          constant  2860.643    2862.544\n",
       "1    n_tokens_title    48.268      48.101\n",
       "2  n_tokens_content     0.057       0.057\n",
       "3   n_unique_tokens     2.856       2.853"
      ]
     },
     "execution_count": 20,
     "metadata": {},
     "output_type": "execute_result"
    }
   ],
   "source": [
    "compare_ridge = pd.DataFrame({\n",
    "    \"var\":models_var_list,\n",
    "    \"coefs\":np.round(own_ridge.coefs,3),\n",
    "    \"skit-learn\": np.round(sk_ridge_coefs,3) })\n",
    "compare_ridge"
   ]
  },
  {
   "cell_type": "markdown",
   "metadata": {},
   "source": [
    "# Comparison for PCA"
   ]
  },
  {
   "cell_type": "markdown",
   "metadata": {},
   "source": [
    "## Our Implementation"
   ]
  },
  {
   "cell_type": "code",
   "execution_count": 35,
   "metadata": {},
   "outputs": [],
   "source": [
    "class Pca:\n",
    "    def __init__(self):\n",
    "        \"\"\"\n",
    "        Instance of Principale Component Analysis\n",
    "        \"\"\"\n",
    "        self.components = []\n",
    "        self.eigen_values = []\n",
    "        self.eigen_vectors=[]\n",
    "        \n",
    "    def fit(self,inputs):\n",
    "        X= np.array(inputs)\n",
    "        X -=np.mean(X,axis=0) \n",
    "        cov = np.cov(X,rowvar=False)\n",
    "        eigen_values,eigen_vectors = np.linalg.eig(cov)\n",
    "        eigen_vectors = eigen_vectors.T\n",
    "        #Match each eigen value with its eigen vector\n",
    "        eigen_values_vectors = list(zip(eigen_values,eigen_vectors))\n",
    "        #print(eigen_values_vectors)\n",
    "        #Sort by eigen value descending\n",
    "        eigen_values_vectors = dict(sorted(eigen_values_vectors,key=lambda x: x[0],reverse=True))\n",
    "        self.eigen_values = list(eigen_values_vectors.keys())\n",
    "        self.eigen_vectors = np.array(list(eigen_values_vectors.values()))\n",
    "        self.components = X@self.eigen_vectors\n",
    "        self.explained_ratio = self.eigen_values/sum(self.eigen_values)\n",
    "        return self\n",
    "        \n",
    "    def plot_hist(self):\n",
    "        plt.bar(range(1,len(self.eigen_values)+1),self.explained_ratio)"
   ]
  },
  {
   "cell_type": "code",
   "execution_count": 45,
   "metadata": {},
   "outputs": [],
   "source": [
    "#Our own implementation of PCA\n",
    "results_own = Pca().fit(X)"
   ]
  },
  {
   "cell_type": "code",
   "execution_count": 46,
   "metadata": {},
   "outputs": [
    {
     "data": {
      "text/plain": [
       "array([[ 8.14908269e-05,  9.99999996e-01, -3.54004645e-05],\n",
       "       [-4.91223375e-03,  3.58003395e-05,  9.99987934e-01],\n",
       "       [ 9.99987932e-01, -8.13159483e-05,  4.91223664e-03]])"
      ]
     },
     "execution_count": 46,
     "metadata": {},
     "output_type": "execute_result"
    }
   ],
   "source": [
    "results_own.eigen_vectors"
   ]
  },
  {
   "cell_type": "code",
   "execution_count": 47,
   "metadata": {},
   "outputs": [
    {
     "data": {
      "text/plain": [
       "[221942.28579698247, 12.395300331404506, 4.467486493745111]"
      ]
     },
     "execution_count": 47,
     "metadata": {},
     "output_type": "execute_result"
    }
   ],
   "source": [
    "results_own.eigen_values"
   ]
  },
  {
   "cell_type": "code",
   "execution_count": 48,
   "metadata": {},
   "outputs": [
    {
     "data": {
      "image/png": "[encoded data removed]",
      "text/plain": [
       "<Figure size 432x288 with 1 Axes>"
      ]
     },
     "metadata": {
      "needs_background": "light"
     },
     "output_type": "display_data"
    }
   ],
   "source": [
    "results_own.plot_hist()"
   ]
  },
  {
   "cell_type": "code",
   "execution_count": 49,
   "metadata": {},
   "outputs": [
    {
     "data": {
      "text/plain": [
       "array([[ 8.14908269e-05,  9.99999996e-01, -3.54004645e-05],\n",
       "       [-4.91223375e-03,  3.58003395e-05,  9.99987934e-01],\n",
       "       [ 9.99987932e-01, -8.13159483e-05,  4.91223664e-03]])"
      ]
     },
     "execution_count": 49,
     "metadata": {},
     "output_type": "execute_result"
    }
   ],
   "source": [
    "#pca from skit learn\n",
    "result = PCA().fit(X)\n",
    "result.components_"
   ]
  },
  {
   "cell_type": "code",
   "execution_count": 54,
   "metadata": {},
   "outputs": [
    {
     "data": {
      "text/plain": [
       "array([2.21942286e+05, 1.23953003e+01, 4.46748649e+00])"
      ]
     },
     "execution_count": 54,
     "metadata": {},
     "output_type": "execute_result"
    }
   ],
   "source": [
    "#Eigen values are the same\n",
    "result.explained_variance_"
   ]
  },
  {
   "cell_type": "markdown",
   "metadata": {},
   "source": [
    "## Comparison"
   ]
  },
  {
   "cell_type": "code",
   "execution_count": 56,
   "metadata": {},
   "outputs": [
    {
     "data": {
      "text/html": [
       "<div>\n",
       "<style scoped>\n",
       "    .dataframe tbody tr th:only-of-type {\n",
       "        vertical-align: middle;\n",
       "    }\n",
       "\n",
       "    .dataframe tbody tr th {\n",
       "        vertical-align: top;\n",
       "    }\n",
       "\n",
       "    .dataframe thead th {\n",
       "        text-align: right;\n",
       "    }\n",
       "</style>\n",
       "<table border=\"1\" class=\"dataframe\">\n",
       "  <thead>\n",
       "    <tr style=\"text-align: right;\">\n",
       "      <th></th>\n",
       "      <th>Our own Implementation</th>\n",
       "      <th>Skit-learn</th>\n",
       "    </tr>\n",
       "  </thead>\n",
       "  <tbody>\n",
       "    <tr>\n",
       "      <th>Eigenvalues</th>\n",
       "      <td>[221942.286, 12.395, 4.467]</td>\n",
       "      <td>[221942.2858, 12.3953, 4.46749]</td>\n",
       "    </tr>\n",
       "    <tr>\n",
       "      <th>Eigenvectors 1</th>\n",
       "      <td>[8e-05, 1.0, -4e-05]</td>\n",
       "      <td>[8e-05, 1.0, -4e-05]</td>\n",
       "    </tr>\n",
       "    <tr>\n",
       "      <th>Eigenvectors 2</th>\n",
       "      <td>[-0.00491, 4e-05, 0.99999]</td>\n",
       "      <td>[-0.00491, 4e-05, 0.99999]</td>\n",
       "    </tr>\n",
       "    <tr>\n",
       "      <th>Eigenvectors 3</th>\n",
       "      <td>[0.99999, -8e-05, 0.00491]</td>\n",
       "      <td>[0.99999, -8e-05, 0.00491]</td>\n",
       "    </tr>\n",
       "  </tbody>\n",
       "</table>\n",
       "</div>"
      ],
      "text/plain": [
       "                     Our own Implementation                       Skit-learn\n",
       "Eigenvalues     [221942.286, 12.395, 4.467]  [221942.2858, 12.3953, 4.46749]\n",
       "Eigenvectors 1         [8e-05, 1.0, -4e-05]             [8e-05, 1.0, -4e-05]\n",
       "Eigenvectors 2   [-0.00491, 4e-05, 0.99999]       [-0.00491, 4e-05, 0.99999]\n",
       "Eigenvectors 3   [0.99999, -8e-05, 0.00491]       [0.99999, -8e-05, 0.00491]"
      ]
     },
     "execution_count": 56,
     "metadata": {},
     "output_type": "execute_result"
    }
   ],
   "source": [
    "index_names = [\"Eigenvalues\"]\n",
    "for i in range(1,4):\n",
    "    index_names.append(\"Eigenvectors {}\".format(i))\n",
    "compare_pca = pd.DataFrame({\n",
    "    \"Our own Implementation\": [np.round(results_own.eigen_values,3),\n",
    "                               np.round(results_own.eigen_vectors[0,:],5),\n",
    "                               np.round(results_own.eigen_vectors[1,:],5),\n",
    "                               np.round(results_own.eigen_vectors[2,:],5)],\n",
    "    \"Skit-learn\": [np.round(result.explained_variance_,5),\n",
    "                               np.round(result.components_[0,:],5),\n",
    "                               np.round(result.components_[1,:],5),\n",
    "                               np.round(result.components_[2,:],5)]},\n",
    "    index=index_names)\n",
    "compare_pca"
   ]
  },
  {
   "cell_type": "code",
   "execution_count": 57,
   "metadata": {},
   "outputs": [
    {
     "data": {
      "text/plain": [
       "'\\\\begin{tabular}{lll}\\n\\\\toprule\\n{} &       Our own Implementation &                       Skit-learn \\\\\\\\\\n\\\\midrule\\nEigenvalues    &  [221942.286, 12.395, 4.467] &  [221942.2858, 12.3953, 4.46749] \\\\\\\\\\nEigenvectors 1 &         [8e-05, 1.0, -4e-05] &             [8e-05, 1.0, -4e-05] \\\\\\\\\\nEigenvectors 2 &   [-0.00491, 4e-05, 0.99999] &       [-0.00491, 4e-05, 0.99999] \\\\\\\\\\nEigenvectors 3 &   [0.99999, -8e-05, 0.00491] &       [0.99999, -8e-05, 0.00491] \\\\\\\\\\n\\\\bottomrule\\n\\\\end{tabular}\\n'"
      ]
     },
     "execution_count": 57,
     "metadata": {},
     "output_type": "execute_result"
    }
   ],
   "source": [
    "compare_pca.to_latex()"
   ]
  },
  {
   "cell_type": "code",
   "execution_count": null,
   "metadata": {},
   "outputs": [],
   "source": [
    "#EXplained ratio also are same:\n",
    "result.explained_variance_ratio_"
   ]
  },
  {
   "cell_type": "code",
   "execution_count": 166,
   "metadata": {},
   "outputs": [
    {
     "data": {
      "text/plain": [
       "array([9.99924028e-01, 5.58449625e-05, 2.01275168e-05])"
      ]
     },
     "execution_count": 166,
     "metadata": {},
     "output_type": "execute_result"
    }
   ],
   "source": [
    "results_own.explained_ratio"
   ]
  }
 ],
 "metadata": {
  "kernelspec": {
   "display_name": "Python 3",
   "language": "python",
   "name": "python3"
  },
  "language_info": {
   "codemirror_mode": {
    "name": "ipython",
    "version": 3
   },
   "file_extension": ".py",
   "mimetype": "text/x-python",
   "name": "python",
   "nbconvert_exporter": "python",
   "pygments_lexer": "ipython3",
   "version": "3.8.5"
  }
 },
 "nbformat": 4,
 "nbformat_minor": 4
}
